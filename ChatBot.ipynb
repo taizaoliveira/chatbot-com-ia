{
  "nbformat": 4,
  "nbformat_minor": 0,
  "metadata": {
    "colab": {
      "provenance": [],
      "authorship_tag": "ABX9TyPh508rBNP7EqXPR68U6Hdd",
      "include_colab_link": true
    },
    "kernelspec": {
      "name": "python3",
      "display_name": "Python 3"
    },
    "language_info": {
      "name": "python"
    }
  },
  "cells": [
    {
      "cell_type": "markdown",
      "metadata": {
        "id": "view-in-github",
        "colab_type": "text"
      },
      "source": [
        "<a href=\"https://colab.research.google.com/github/taizaoliveira/chatbot-com-ia/blob/main/ChatBot.ipynb\" target=\"_parent\"><img src=\"https://colab.research.google.com/assets/colab-badge.svg\" alt=\"Open In Colab\"/></a>"
      ]
    },
    {
      "cell_type": "code",
      "execution_count": null,
      "metadata": {
        "collapsed": true,
        "id": "oaBlH4ms9rs9"
      },
      "outputs": [],
      "source": [
        "!pip install google-generativeai"
      ]
    },
    {
      "cell_type": "code",
      "source": [
        "import google.generativeai as geneai"
      ],
      "metadata": {
        "id": "0f0QA1LzBiJm"
      },
      "execution_count": null,
      "outputs": []
    },
    {
      "cell_type": "code",
      "source": [
        "from google.colab import userdata\n",
        "GOOGLE_GEMINI_API_KEY = userdata.get('GOOGLE_GEMINI_API_KEY')\n",
        "geneai.configure(api_key=GOOGLE_GEMINI_API_KEY)"
      ],
      "metadata": {
        "id": "26tDQLwgBsBP"
      },
      "execution_count": null,
      "outputs": []
    },
    {
      "cell_type": "code",
      "source": [
        "for m in geneai.list_models():\n",
        "  if 'generateContent' in m.supported_generation_methods:\n",
        "    print(m.name)"
      ],
      "metadata": {
        "collapsed": true,
        "id": "wUXli-53D5Ns"
      },
      "execution_count": null,
      "outputs": []
    },
    {
      "cell_type": "code",
      "source": [
        "model = geneai.GenerativeModel(\"gemini-1.5-pro-latest\")"
      ],
      "metadata": {
        "id": "m2wx3mAhECU9"
      },
      "execution_count": null,
      "outputs": []
    },
    {
      "cell_type": "code",
      "source": [
        "resposta = model.generate_content(\"Quem criou os modelos de IA Gemini?\")\n",
        "resposta.text"
      ],
      "metadata": {
        "collapsed": true,
        "id": "JB05m5cPGXv9"
      },
      "execution_count": null,
      "outputs": []
    },
    {
      "cell_type": "code",
      "source": [
        "chat = model.start_chat(history=[])\n",
        "\n",
        "prompt = input(\"Esperando prompt: \")\n",
        "\n",
        "while prompt != \"fim\":\n",
        "  resposta = chat.send_message(prompt)\n",
        "  print(resposta.text)\n",
        "  prompt = input(\"Esperando prompt: \")"
      ],
      "metadata": {
        "collapsed": true,
        "id": "GHPKz3KkG_uo"
      },
      "execution_count": null,
      "outputs": []
    },
    {
      "cell_type": "code",
      "source": [],
      "metadata": {
        "id": "GiVG0i2oIlVU"
      },
      "execution_count": null,
      "outputs": []
    }
  ]
}